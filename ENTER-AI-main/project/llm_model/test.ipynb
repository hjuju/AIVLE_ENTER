{
 "cells": [
  {
   "cell_type": "code",
   "execution_count": 1,
   "metadata": {},
   "outputs": [],
   "source": [
    "from llama2_answer import LangchainPipline"
   ]
  },
  {
   "cell_type": "code",
   "execution_count": null,
   "metadata": {},
   "outputs": [],
   "source": [
    "import time\n",
    "import pandas as pd\n",
    "data = pd.read_csv('/home/wsl_han/aivle_project/remote/ENTER-AI/langchain/kt.csv')\n",
    "\n",
    "total_start = time.time()\n",
    "filtered_list = []\n",
    "filtered_result = []\n",
    "filtered_sec = []\n",
    "\n",
    "\n",
    "not_filtered_list = []\n",
    "not_filtered_result = []\n",
    "not_filtered_sec = []\n",
    "\n",
    "model_path = \"TheBloke/Llama-2-13B-Chat-GPTQ\"\n",
    "    \n",
    "model_name = model_path.split('/')[-1]\n",
    "\n",
    "question = \"'lg u+ 인터넷은 어떰??' inputed text related KT???\"\n",
    "my_prompt = \"\"\"\\\n",
    "You must distinguish among South Korea's mobile telecommunication companies (skt, kt, lg u+). \n",
    "\n",
    "Provide answers with ONLY 'yes' or 'no'. no more answer.\n",
    "\"\"\"\n",
    "lp = LangchainPipline(my_prompt, model_path=model_path)\n",
    "\n"
   ]
  },
  {
   "cell_type": "code",
   "execution_count": null,
   "metadata": {},
   "outputs": [],
   "source": [
    "for comment in data['comment'].values[:100]:\n",
    "    start = time.time()\n",
    "    result = lp.chain(question=f\"'{comment}' inputed text related LG U+????\")\n",
    "    end = time.time() - start\n",
    "    print(result)\n",
    "    \n",
    "    if (result.strip() == 'Yes') or (result.strip() == 'Yes.'):\n",
    "        filtered_list.append(comment)\n",
    "        filtered_result.append(result.strip())\n",
    "        filtered_sec.append(end)\n",
    "    else:\n",
    "        not_filtered_list.append(comment)\n",
    "        not_filtered_result.append(result.strip())\n",
    "        not_filtered_sec.append(end)\n",
    "\n",
    "total_end = time.time() - total_start\n",
    "print(total_end)\n",
    "\n",
    "pd.DataFrame.from_dict({'commnet':filtered_list,'answer':filtered_result,'sec':filtered_sec}).to_csv(f'/home/wsl_han/aivle_project/remote/ENTER-AI/langchain/classification_llama2/fil_{model_name}_100_{total_end}.csv',index=False)\n",
    "pd.DataFrame.from_dict({'commnet':not_filtered_list,'answer':not_filtered_result,'sec':not_filtered_sec}).to_csv(f'/home/wsl_han/aivle_project/remote/ENTER-AI/langchain/classification_llama2/not_fil_{model_name}_100_{total_end}.csv',index=False)"
   ]
  }
 ],
 "metadata": {
  "kernelspec": {
   "display_name": "aivle_project",
   "language": "python",
   "name": "python3"
  },
  "language_info": {
   "codemirror_mode": {
    "name": "ipython",
    "version": 3
   },
   "file_extension": ".py",
   "mimetype": "text/x-python",
   "name": "python",
   "nbconvert_exporter": "python",
   "pygments_lexer": "ipython3",
   "version": "3.10.13"
  }
 },
 "nbformat": 4,
 "nbformat_minor": 2
}
