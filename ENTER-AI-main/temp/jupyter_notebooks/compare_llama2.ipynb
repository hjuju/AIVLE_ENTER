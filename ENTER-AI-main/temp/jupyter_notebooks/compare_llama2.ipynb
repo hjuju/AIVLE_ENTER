{
 "cells": [
  {
   "cell_type": "code",
   "execution_count": 2,
   "metadata": {},
   "outputs": [],
   "source": [
    "import pandas as pd\n",
    "from pathlib import Path\n",
    "\n",
    "base_path = Path(\"/home/wsl_han/aivle_project/remote/ENTER-AI/langchain/classification_llama2\")\n",
    "\n",
    "a = [path for path in base_path.rglob('./*.csv')]"
   ]
  },
  {
   "cell_type": "code",
   "execution_count": 5,
   "metadata": {},
   "outputs": [
    {
     "name": "stdout",
     "output_type": "stream",
     "text": [
      "fil_13B_100_17.61265802383423\n",
      "0\n",
      "not_fil_7B_100_11.592178583145142\n",
      "4\n",
      "fil_7B_100_11.592178583145142\n",
      "0\n",
      "not_fil_13B_100_17.61265802383423\n",
      "40\n"
     ]
    }
   ],
   "source": [
    "for path in a:\n",
    "    data = pd.read_csv(path)\n",
    "    print(path.stem)\n",
    "    print(len(data[data['answer'] == 'No'].values))\n",
    "    "
   ]
  },
  {
   "cell_type": "code",
   "execution_count": null,
   "metadata": {},
   "outputs": [],
   "source": [
    "import seaborn as sns\n",
    "\n"
   ]
  }
 ],
 "metadata": {
  "kernelspec": {
   "display_name": "aivle_project",
   "language": "python",
   "name": "python3"
  },
  "language_info": {
   "codemirror_mode": {
    "name": "ipython",
    "version": 3
   },
   "file_extension": ".py",
   "mimetype": "text/x-python",
   "name": "python",
   "nbconvert_exporter": "python",
   "pygments_lexer": "ipython3",
   "version": "3.10.13"
  }
 },
 "nbformat": 4,
 "nbformat_minor": 2
}
