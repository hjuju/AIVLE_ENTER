{
 "cells": [
  {
   "cell_type": "code",
   "execution_count": 37,
   "metadata": {},
   "outputs": [
    {
     "name": "stdout",
     "output_type": "stream",
     "text": [
      "{'detail': 'Not Found'}\n"
     ]
    }
   ],
   "source": [
    "import requests\n",
    "\n",
    "url = \"http://localhost:8000/answer\"  # 'your_keyword'를 원하는 키워드로 바꾸세요.\n",
    "data = {\"question\": \"안녕?\"}\n",
    "\n",
    "response = requests.post(url, json=data)\n",
    "print(response.json())"
   ]
  },
  {
   "cell_type": "code",
   "execution_count": 26,
   "metadata": {},
   "outputs": [
    {
     "name": "stdout",
     "output_type": "stream",
     "text": [
      "index.faiss\n"
     ]
    }
   ],
   "source": [
    "import os\n",
    "\n",
    "directory = '/home/wsl_han/aivle_project/remote/ENTER-AI/faiss_index'  # 인덱스 파일이 저장된 경로\n",
    "for filename in os.listdir(directory):\n",
    "    if filename.endswith('.index') or filename.endswith('.faiss'):  # 인덱스 파일 확장자\n",
    "        print(filename)"
   ]
  },
  {
   "cell_type": "code",
   "execution_count": 2,
   "metadata": {},
   "outputs": [],
   "source": [
    "import os\n",
    "api_key = os.getenv('OPENAI_KEY')"
   ]
  },
  {
   "cell_type": "code",
   "execution_count": 5,
   "metadata": {},
   "outputs": [
    {
     "name": "stdout",
     "output_type": "stream",
     "text": [
      "안녕하세요! 저는 여기서 한글로 여러분과 얘기하는데 도움을 주는 어시스턴트입니다. 무엇을 도와드릴까요?\n"
     ]
    }
   ],
   "source": [
    "import openai\n",
    "\n",
    "def get_chat_response(prompt, api_key):\n",
    "    openai.api_key = api_key\n",
    "\n",
    "    response = openai.ChatCompletion.create(\n",
    "        model=\"gpt-3.5-turbo\",  # 모델 버전을 지정\n",
    "        messages=[{\"role\": \"system\", \"content\": \"You are a helpful assistant.\"},\n",
    "                  {\"role\": \"user\", \"content\": prompt}]\n",
    "    )\n",
    "\n",
    "    return response['choices'][0]['message']['content']\n",
    "\n",
    "# 사용 예시\n",
    "api_key = api_key\n",
    "prompt = \"안녕 한글로 얘기해\"\n",
    "response = get_chat_response(prompt, api_key)\n",
    "print(response)\n"
   ]
  },
  {
   "cell_type": "code",
   "execution_count": null,
   "metadata": {},
   "outputs": [],
   "source": []
  }
 ],
 "metadata": {
  "kernelspec": {
   "display_name": "aivle_project",
   "language": "python",
   "name": "python3"
  },
  "language_info": {
   "codemirror_mode": {
    "name": "ipython",
    "version": 3
   },
   "file_extension": ".py",
   "mimetype": "text/x-python",
   "name": "python",
   "nbconvert_exporter": "python",
   "pygments_lexer": "ipython3",
   "version": "3.10.13"
  }
 },
 "nbformat": 4,
 "nbformat_minor": 2
}
