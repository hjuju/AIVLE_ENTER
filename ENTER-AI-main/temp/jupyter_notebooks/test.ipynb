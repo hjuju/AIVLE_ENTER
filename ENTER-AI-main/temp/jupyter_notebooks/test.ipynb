{
 "cells": [
  {
   "cell_type": "code",
   "execution_count": 4,
   "metadata": {},
   "outputs": [],
   "source": [
    "from pathlib import Path\n",
    "\n",
    "a = Path('/home/wsl_han/aivle_project/remote/ENTER-AI/project/data/templates/llama2/kt.csv')"
   ]
  },
  {
   "cell_type": "code",
   "execution_count": 10,
   "metadata": {},
   "outputs": [
    {
     "data": {
      "text/plain": [
       "['chatgpt', 'llama']"
      ]
     },
     "execution_count": 10,
     "metadata": {},
     "output_type": "execute_result"
    }
   ],
   "source": [
    "[i.stem for i in a.parent.parent.iterdir()]"
   ]
  },
  {
   "cell_type": "code",
   "execution_count": null,
   "metadata": {},
   "outputs": [],
   "source": [
    "from langchain.vectorstores.faiss import FAISS\n",
    "\n",
    "from langchain.embeddings import Em"
   ]
  },
  {
   "cell_type": "code",
   "execution_count": null,
   "metadata": {},
   "outputs": [],
   "source": []
  },
  {
   "cell_type": "code",
   "execution_count": 1,
   "metadata": {},
   "outputs": [],
   "source": [
    "import pandas as pd"
   ]
  },
  {
   "cell_type": "code",
   "execution_count": 2,
   "metadata": {},
   "outputs": [],
   "source": [
    "data = pd.read_excel('/home/wsl_han/aivle_project/remote/ENTER-AI/review_data/naver_review/naver_review_goldpig.xlsx')\n"
   ]
  },
  {
   "cell_type": "code",
   "execution_count": 3,
   "metadata": {},
   "outputs": [
    {
     "data": {
      "text/html": [
       "<div>\n",
       "<style scoped>\n",
       "    .dataframe tbody tr th:only-of-type {\n",
       "        vertical-align: middle;\n",
       "    }\n",
       "\n",
       "    .dataframe tbody tr th {\n",
       "        vertical-align: top;\n",
       "    }\n",
       "\n",
       "    .dataframe thead th {\n",
       "        text-align: right;\n",
       "    }\n",
       "</style>\n",
       "<table border=\"1\" class=\"dataframe\">\n",
       "  <thead>\n",
       "    <tr style=\"text-align: right;\">\n",
       "      <th></th>\n",
       "      <th>리뷰</th>\n",
       "      <th>날짜</th>\n",
       "      <th>방문횟수</th>\n",
       "    </tr>\n",
       "  </thead>\n",
       "  <tbody>\n",
       "    <tr>\n",
       "      <th>0</th>\n",
       "      <td>우리나라 최고의 돼지고기집임을 다시한번 느낀날이였음 1.2.3층 구조 낮3시방문 앞...</td>\n",
       "      <td>2023년 12월 2일</td>\n",
       "      <td>1번째 방문</td>\n",
       "    </tr>\n",
       "    <tr>\n",
       "      <th>1</th>\n",
       "      <td>이렇게 맛있는데 점점 더 유명해지는 건 당연한 거 아닐까요??? 유명세에도 끄떡없는...</td>\n",
       "      <td>2023년 12월 2일</td>\n",
       "      <td>1번째 방문</td>\n",
       "    </tr>\n",
       "    <tr>\n",
       "      <th>2</th>\n",
       "      <td>주말 오픈 1시간 전 웨이팅 하고 오픈 후 50분 뒤 들어갔습니다 가격은 사악하지만...</td>\n",
       "      <td>2023년 12월 9일</td>\n",
       "      <td>1번째 방문</td>\n",
       "    </tr>\n",
       "    <tr>\n",
       "      <th>3</th>\n",
       "      <td>삼겹 2인분에 목살 1인분 시키고 김치찌개에 라면사리 추가해서 먹었어요! 일단.. ...</td>\n",
       "      <td>2023년 11월 30일</td>\n",
       "      <td>1번째 방문</td>\n",
       "    </tr>\n",
       "    <tr>\n",
       "      <th>4</th>\n",
       "      <td>작년에 친구부부랑 맛잇게 먹어서 오늘은 회사 직원들이랑 같이 왔는데 역시나 맛있네용...</td>\n",
       "      <td>2023년 12월 7일</td>\n",
       "      <td>1번째 방문</td>\n",
       "    </tr>\n",
       "    <tr>\n",
       "      <th>...</th>\n",
       "      <td>...</td>\n",
       "      <td>...</td>\n",
       "      <td>...</td>\n",
       "    </tr>\n",
       "    <tr>\n",
       "      <th>2101</th>\n",
       "      <td>맛나요</td>\n",
       "      <td>2019년 10월 23일</td>\n",
       "      <td>1번째 방문</td>\n",
       "    </tr>\n",
       "    <tr>\n",
       "      <th>2102</th>\n",
       "      <td>최고의 삼겹살!!!</td>\n",
       "      <td>2019년 3월 1일</td>\n",
       "      <td>1번째 방문</td>\n",
       "    </tr>\n",
       "    <tr>\n",
       "      <th>2103</th>\n",
       "      <td>진짜고기의신세계</td>\n",
       "      <td>2019년 3월 25일</td>\n",
       "      <td>1번째 방문</td>\n",
       "    </tr>\n",
       "    <tr>\n",
       "      <th>2104</th>\n",
       "      <td>NaN</td>\n",
       "      <td>2019년 10월 25일</td>\n",
       "      <td>1번째 방문</td>\n",
       "    </tr>\n",
       "    <tr>\n",
       "      <th>2105</th>\n",
       "      <td>good best ever</td>\n",
       "      <td>2017년 2월 2일</td>\n",
       "      <td>1번째 방문</td>\n",
       "    </tr>\n",
       "  </tbody>\n",
       "</table>\n",
       "<p>2106 rows × 3 columns</p>\n",
       "</div>"
      ],
      "text/plain": [
       "                                                     리뷰             날짜    방문횟수\n",
       "0     우리나라 최고의 돼지고기집임을 다시한번 느낀날이였음 1.2.3층 구조 낮3시방문 앞...   2023년 12월 2일  1번째 방문\n",
       "1     이렇게 맛있는데 점점 더 유명해지는 건 당연한 거 아닐까요??? 유명세에도 끄떡없는...   2023년 12월 2일  1번째 방문\n",
       "2     주말 오픈 1시간 전 웨이팅 하고 오픈 후 50분 뒤 들어갔습니다 가격은 사악하지만...   2023년 12월 9일  1번째 방문\n",
       "3     삼겹 2인분에 목살 1인분 시키고 김치찌개에 라면사리 추가해서 먹었어요! 일단.. ...  2023년 11월 30일  1번째 방문\n",
       "4     작년에 친구부부랑 맛잇게 먹어서 오늘은 회사 직원들이랑 같이 왔는데 역시나 맛있네용...   2023년 12월 7일  1번째 방문\n",
       "...                                                 ...            ...     ...\n",
       "2101                                                맛나요  2019년 10월 23일  1번째 방문\n",
       "2102                                         최고의 삼겹살!!!    2019년 3월 1일  1번째 방문\n",
       "2103                                           진짜고기의신세계   2019년 3월 25일  1번째 방문\n",
       "2104                                                NaN  2019년 10월 25일  1번째 방문\n",
       "2105                                     good best ever    2017년 2월 2일  1번째 방문\n",
       "\n",
       "[2106 rows x 3 columns]"
      ]
     },
     "execution_count": 3,
     "metadata": {},
     "output_type": "execute_result"
    }
   ],
   "source": [
    "data"
   ]
  },
  {
   "cell_type": "code",
   "execution_count": 1,
   "metadata": {},
   "outputs": [
    {
     "ename": "ModuleNotFoundError",
     "evalue": "No module named 'project'",
     "output_type": "error",
     "traceback": [
      "\u001b[0;31m---------------------------------------------------------------------------\u001b[0m",
      "\u001b[0;31mModuleNotFoundError\u001b[0m                       Traceback (most recent call last)",
      "Cell \u001b[0;32mIn[1], line 1\u001b[0m\n\u001b[0;32m----> 1\u001b[0m \u001b[38;5;28;01mfrom\u001b[39;00m \u001b[38;5;21;01mproject\u001b[39;00m\u001b[38;5;21;01m.\u001b[39;00m\u001b[38;5;21;01mutils\u001b[39;00m\u001b[38;5;21;01m.\u001b[39;00m\u001b[38;5;21;01mconfigs\u001b[39;00m \u001b[38;5;28;01mimport\u001b[39;00m param_config\n\u001b[1;32m      3\u001b[0m params \u001b[38;5;241m=\u001b[39m param_config()\n\u001b[1;32m      4\u001b[0m params\u001b[38;5;241m.\u001b[39mchatgpt\u001b[38;5;241m.\u001b[39mparameters\n",
      "\u001b[0;31mModuleNotFoundError\u001b[0m: No module named 'project'"
     ]
    }
   ],
   "source": [
    "from  .utils.configs import param_config\n",
    "\n",
    "params = param_config()\n",
    "params.chatgpt.parameters\n"
   ]
  },
  {
   "cell_type": "code",
   "execution_count": null,
   "metadata": {},
   "outputs": [],
   "source": []
  }
 ],
 "metadata": {
  "kernelspec": {
   "display_name": "aivle_project",
   "language": "python",
   "name": "python3"
  },
  "language_info": {
   "codemirror_mode": {
    "name": "ipython",
    "version": 3
   },
   "file_extension": ".py",
   "mimetype": "text/x-python",
   "name": "python",
   "nbconvert_exporter": "python",
   "pygments_lexer": "ipython3",
   "version": "3.10.13"
  }
 },
 "nbformat": 4,
 "nbformat_minor": 2
}
