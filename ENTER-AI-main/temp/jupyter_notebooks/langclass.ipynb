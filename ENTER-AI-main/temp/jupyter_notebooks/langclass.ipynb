{
 "cells": [
  {
   "cell_type": "code",
   "execution_count": 1,
   "id": "ccd43944",
   "metadata": {},
   "outputs": [],
   "source": [
    "from langchain.callbacks.manager import CallbackManager\n",
    "from langchain.callbacks.streaming_stdout import StreamingStdOutCallbackHandler\n",
    "from langchain.chains import LLMChain\n",
    "from langchain.llms import LlamaCpp\n",
    "from langchain.prompts import ChatPromptTemplate\n",
    "from langchain_core.output_parsers import StrOutputParser"
   ]
  },
  {
   "cell_type": "code",
   "execution_count": 2,
   "id": "12536520",
   "metadata": {},
   "outputs": [],
   "source": [
    "callback_manager = CallbackManager([StreamingStdOutCallbackHandler()])"
   ]
  },
  {
   "cell_type": "code",
   "execution_count": 4,
   "id": "bbef77ed",
   "metadata": {},
   "outputs": [
    {
     "name": "stderr",
     "output_type": "stream",
     "text": [
      "AVX = 1 | AVX2 = 1 | AVX512 = 0 | AVX512_VBMI = 0 | AVX512_VNNI = 0 | FMA = 1 | NEON = 0 | ARM_FMA = 0 | F16C = 1 | FP16_VA = 0 | WASM_SIMD = 0 | BLAS = 0 | SSE3 = 1 | SSSE3 = 0 | VSX = 0 | \n"
     ]
    }
   ],
   "source": [
    "llmc = LlamaCpp(\n",
    "    model_path=\"../llachat.bin\",\n",
    "    temperature=0,\n",
    "    max_tokens=2000,\n",
    "    top_p=1,\n",
    "    callback_manager=callback_manager,\n",
    "    verbose=True,  # Verbose is required to pass to the callback manager\n",
    ")"
   ]
  },
  {
   "cell_type": "code",
   "execution_count": 5,
   "id": "5955d89b",
   "metadata": {},
   "outputs": [],
   "source": [
    "output_parser = StrOutputParser()"
   ]
  },
  {
   "cell_type": "code",
   "execution_count": 11,
   "id": "6f8f63f7",
   "metadata": {},
   "outputs": [],
   "source": [
    "template = '''[INST] <<SYS>>\n",
    "You are a CEO of telecommunications company.<</SYS>>\n",
    "\n",
    "Is comment that is \"{comment}\" generally related to telecommunications company?\n",
    "Please answer within 30 characters\n",
    "\n",
    "[/INST]'''"
   ]
  },
  {
   "cell_type": "code",
   "execution_count": 7,
   "id": "eb0af997",
   "metadata": {},
   "outputs": [],
   "source": [
    "prompt = ChatPromptTemplate.from_template(template)"
   ]
  },
  {
   "cell_type": "code",
   "execution_count": 8,
   "id": "8c34d5e4",
   "metadata": {},
   "outputs": [],
   "source": [
    "chain1 = prompt | llmc | output_parser"
   ]
  },
  {
   "cell_type": "code",
   "execution_count": 39,
   "id": "eb795f5b",
   "metadata": {},
   "outputs": [],
   "source": [
    "chain = prompt | llmc.bind(stop=[\",\"]) | output_parser"
   ]
  },
  {
   "cell_type": "code",
   "execution_count": 10,
   "id": "0fd23073",
   "metadata": {},
   "outputs": [
    {
     "name": "stderr",
     "output_type": "stream",
     "text": [
      "Llama.generate: prefix-match hit\n"
     ]
    },
    {
     "name": "stdout",
     "output_type": "stream",
     "text": [
      "  As the CEO of a telecommunications company, I can tell you that \"배고프다\" (baegopdada) is not a term commonly used in our industry. It is a Korean word that roughly translates to \"I'm hungry,\" and it has no direct relation to telecommunications or the operations of a telecom company."
     ]
    },
    {
     "data": {
      "text/plain": [
       "'  As the CEO of a telecommunications company, I can tell you that \"배고프다\" (baegopdada) is not a term commonly used in our industry. It is a Korean word that roughly translates to \"I\\'m hungry,\" and it has no direct relation to telecommunications or the operations of a telecom company.'"
      ]
     },
     "execution_count": 10,
     "metadata": {},
     "output_type": "execute_result"
    }
   ],
   "source": [
    "chain1.invoke({'comment':'배고프다'})"
   ]
  },
  {
   "cell_type": "code",
   "execution_count": 22,
   "id": "43e6fee9",
   "metadata": {},
   "outputs": [],
   "source": [
    "def relevance_classificate(chain,comment):\n",
    "    result = chain.invoke({'comment':comment})\n",
    "    if 'Yes' in result:\n",
    "        return 1\n",
    "    elif 'No' in result:\n",
    "        return 0"
   ]
  },
  {
   "cell_type": "code",
   "execution_count": null,
   "id": "c4a5c829",
   "metadata": {},
   "outputs": [],
   "source": [
    "template2 = '''[INST] <<SYS>>\n",
    "You are a CEO of telecommunications company. If comment is korean, translate it english first<</SYS>>\n",
    "'Is comment that is \"{comment}\" related to telecommunications company? your answer must start with Yes or No'[/INST]'''"
   ]
  }
 ],
 "metadata": {
  "kernelspec": {
   "display_name": "Python 3 (ipykernel)",
   "language": "python",
   "name": "python3"
  },
  "language_info": {
   "codemirror_mode": {
    "name": "ipython",
    "version": 3
   },
   "file_extension": ".py",
   "mimetype": "text/x-python",
   "name": "python",
   "nbconvert_exporter": "python",
   "pygments_lexer": "ipython3",
   "version": "3.11.3"
  }
 },
 "nbformat": 4,
 "nbformat_minor": 5
}
